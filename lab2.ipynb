{
 "cells": [
  {
   "cell_type": "markdown",
   "id": "2410fd61-0734-471d-a20e-66a5ba326b0d",
   "metadata": {},
   "source": [
    "# 1. Read top five values"
   ]
  },
  {
   "cell_type": "code",
   "execution_count": 13,
   "id": "ca0faf1e-09d7-4513-8976-f6deb4273f4d",
   "metadata": {},
   "outputs": [
    {
     "name": "stdout",
     "output_type": "stream",
     "text": [
      "    Manufacturer              Model  Sales in thousands 4-year resale value  \\\n",
      "0  Acura          Integra                        16.919               16.36   \n",
      "1  Acura          TL                             39.384              19.875   \n",
      "2  Acura          CL                             14.114              18.225   \n",
      "3  Acura          RL                              8.588              29.725   \n",
      "4  Audi           A4                             20.397              22.255   \n",
      "\n",
      "  Vehicle type Price in thousands Engine size Horsepower Wheelbase Width  \\\n",
      "0    Passenger               21.5         1.8        140     101.2  67.3   \n",
      "1    Passenger               28.4         3.2        225     108.1  70.3   \n",
      "2    Passenger                  .         3.2        225     106.9  70.6   \n",
      "3    Passenger                 42         3.5        210     114.6  71.4   \n",
      "4    Passenger              23.99         1.8        150     102.6  68.2   \n",
      "\n",
      "  Length Curb weight Fuel capacity Fuel efficiency Latest Launch  \n",
      "0  172.4       2.639          13.2              28      2-Feb-14  \n",
      "1  192.9       3.517          17.2              25      6-Mar-15  \n",
      "2    192        3.47          17.2              26      1-Apr-14  \n",
      "3  196.6        3.85            18              22      3-Oct-15  \n",
      "4    178       2.998          16.4              27     10-Aug-15  \n"
     ]
    }
   ],
   "source": [
    "import pandas as pd\n",
    "df=pd.read_csv(\"Car_sales.csv\")\n",
    "print(df.head())"
   ]
  },
  {
   "cell_type": "markdown",
   "id": "9149f0f7-bbe3-4773-a33a-d734046fb384",
   "metadata": {},
   "source": [
    "# 2. Print dataframe info_data types of each column"
   ]
  },
  {
   "cell_type": "code",
   "execution_count": 14,
   "id": "0cbaaa51-f8de-4fb3-9d01-fc310b517cd5",
   "metadata": {},
   "outputs": [
    {
     "name": "stdout",
     "output_type": "stream",
     "text": [
      "DataFrame Info:\n",
      "<class 'pandas.core.frame.DataFrame'>\n",
      "RangeIndex: 157 entries, 0 to 156\n",
      "Data columns (total 15 columns):\n",
      " #   Column               Non-Null Count  Dtype  \n",
      "---  ------               --------------  -----  \n",
      " 0   Manufacturer         157 non-null    object \n",
      " 1   Model                157 non-null    object \n",
      " 2   Sales in thousands   157 non-null    float64\n",
      " 3   4-year resale value  157 non-null    object \n",
      " 4   Vehicle type         157 non-null    object \n",
      " 5   Price in thousands   157 non-null    object \n",
      " 6   Engine size          157 non-null    object \n",
      " 7   Horsepower           157 non-null    object \n",
      " 8   Wheelbase            157 non-null    object \n",
      " 9   Width                157 non-null    object \n",
      " 10  Length               157 non-null    object \n",
      " 11  Curb weight          157 non-null    object \n",
      " 12  Fuel capacity        157 non-null    object \n",
      " 13  Fuel efficiency      157 non-null    object \n",
      " 14  Latest Launch        157 non-null    object \n",
      "dtypes: float64(1), object(14)\n",
      "memory usage: 18.5+ KB\n",
      "None\n"
     ]
    }
   ],
   "source": [
    "print(\"DataFrame Info:\")\n",
    "print(df.info())"
   ]
  },
  {
   "cell_type": "markdown",
   "id": "af70a72c-c3de-412f-b7b9-c974bf2e985d",
   "metadata": {},
   "source": [
    "# 3. Print number of rows and columns"
   ]
  },
  {
   "cell_type": "code",
   "execution_count": 15,
   "id": "d68d0b9d-059a-4e34-a6e6-d64672413a1a",
   "metadata": {},
   "outputs": [
    {
     "name": "stdout",
     "output_type": "stream",
     "text": [
      "Number of attributes: 15\n",
      "Number of rows: 157\n",
      "Number of columns: 15\n"
     ]
    }
   ],
   "source": [
    "num_attributes = df.shape[1]\n",
    "print(\"Number of attributes:\", num_attributes)\n",
    "num_rows, num_columns = df.shape\n",
    "print(\"Number of rows:\", num_rows)\n",
    "print(\"Number of columns:\", num_columns)"
   ]
  },
  {
   "cell_type": "markdown",
   "id": "568d0a24-9c1e-42b1-8c05-d40b9f1c49a3",
   "metadata": {},
   "source": [
    "# 4. Drop duplicate rows_if any"
   ]
  },
  {
   "cell_type": "code",
   "execution_count": 24,
   "id": "46fcc68b-6e8e-4f1c-9223-1d843700f0fa",
   "metadata": {},
   "outputs": [],
   "source": [
    "df_cleaned = df.drop_duplicates()\n",
    " "
   ]
  },
  {
   "cell_type": "markdown",
   "id": "19ec11d4-fc86-41d4-936d-cae00735b8b1",
   "metadata": {},
   "source": [
    "# 5. Print number of rows and columns after dropping duplicates"
   ]
  },
  {
   "cell_type": "code",
   "execution_count": 25,
   "id": "bb96a84c-cfff-471b-9aa3-dad7f786853a",
   "metadata": {},
   "outputs": [
    {
     "name": "stdout",
     "output_type": "stream",
     "text": [
      "Number of rows before removing duplicates: 157\n",
      "Number of rows after removing duplicates: 157\n"
     ]
    }
   ],
   "source": [
    "print(\"Number of rows before removing duplicates:\", df.shape[0])\n",
    "print(\"Number of rows after removing duplicates:\",df_cleaned.shape[0])"
   ]
  },
  {
   "cell_type": "markdown",
   "id": "73fd8d97-262a-4eda-8d24-e6e1d5bfdb86",
   "metadata": {},
   "source": [
    "# 6. Print summary statistics for numerical variables"
   ]
  },
  {
   "cell_type": "code",
   "execution_count": 18,
   "id": "0f32c92d-85c2-4815-8ac7-eec65a1acfab",
   "metadata": {},
   "outputs": [
    {
     "name": "stdout",
     "output_type": "stream",
     "text": [
      "Summary Statistics for Numerical Variables:\n",
      "       Sales in thousands\n",
      "count          157.000000\n",
      "mean            52.998076\n",
      "std             68.029422\n",
      "min              0.110000\n",
      "25%             14.114000\n",
      "50%             29.450000\n",
      "75%             67.956000\n",
      "max            540.561000\n"
     ]
    }
   ],
   "source": [
    "print(\"Summary Statistics for Numerical Variables:\")\n",
    "print(df.describe())"
   ]
  },
  {
   "cell_type": "markdown",
   "id": "a9fcce12-5c82-4f18-90cf-d8cdcd579abd",
   "metadata": {},
   "source": [
    "# 7. Print number of missing values in each column"
   ]
  },
  {
   "cell_type": "code",
   "execution_count": 19,
   "id": "f26cfad5-2798-4d54-a8e3-581780353453",
   "metadata": {},
   "outputs": [
    {
     "name": "stdout",
     "output_type": "stream",
     "text": [
      "Number of missing values in each column:\n",
      "Manufacturer           0\n",
      "Model                  0\n",
      "Sales in thousands     0\n",
      "4-year resale value    0\n",
      "Vehicle type           0\n",
      "Price in thousands     0\n",
      "Engine size            0\n",
      "Horsepower             0\n",
      "Wheelbase              0\n",
      "Width                  0\n",
      "Length                 0\n",
      "Curb weight            0\n",
      "Fuel capacity          0\n",
      "Fuel efficiency        0\n",
      "Latest Launch          0\n",
      "dtype: int64\n"
     ]
    }
   ],
   "source": [
    "print(\"Number of missing values in each column:\")\n",
    "print(df.isnull().sum())"
   ]
  },
  {
   "cell_type": "markdown",
   "id": "de0ff0da-cca1-499b-8320-270ed3769eb2",
   "metadata": {},
   "source": [
    "# 8. Drop the column with most missing values"
   ]
  },
  {
   "cell_type": "code",
   "execution_count": 20,
   "id": "4e45a26d-eaed-4131-b5c0-53069fc7109e",
   "metadata": {},
   "outputs": [
    {
     "data": {
      "text/html": [
       "<div>\n",
       "<style scoped>\n",
       "    .dataframe tbody tr th:only-of-type {\n",
       "        vertical-align: middle;\n",
       "    }\n",
       "\n",
       "    .dataframe tbody tr th {\n",
       "        vertical-align: top;\n",
       "    }\n",
       "\n",
       "    .dataframe thead th {\n",
       "        text-align: right;\n",
       "    }\n",
       "</style>\n",
       "<table border=\"1\" class=\"dataframe\">\n",
       "  <thead>\n",
       "    <tr style=\"text-align: right;\">\n",
       "      <th></th>\n",
       "      <th>Model</th>\n",
       "      <th>Sales in thousands</th>\n",
       "      <th>4-year resale value</th>\n",
       "      <th>Vehicle type</th>\n",
       "      <th>Price in thousands</th>\n",
       "      <th>Engine size</th>\n",
       "      <th>Horsepower</th>\n",
       "      <th>Wheelbase</th>\n",
       "      <th>Width</th>\n",
       "      <th>Length</th>\n",
       "      <th>Curb weight</th>\n",
       "      <th>Fuel capacity</th>\n",
       "      <th>Fuel efficiency</th>\n",
       "      <th>Latest Launch</th>\n",
       "    </tr>\n",
       "  </thead>\n",
       "  <tbody>\n",
       "    <tr>\n",
       "      <th>0</th>\n",
       "      <td>Integra</td>\n",
       "      <td>16.919</td>\n",
       "      <td>16.36</td>\n",
       "      <td>Passenger</td>\n",
       "      <td>21.5</td>\n",
       "      <td>1.8</td>\n",
       "      <td>140</td>\n",
       "      <td>101.2</td>\n",
       "      <td>67.3</td>\n",
       "      <td>172.4</td>\n",
       "      <td>2.639</td>\n",
       "      <td>13.2</td>\n",
       "      <td>28</td>\n",
       "      <td>2-Feb-14</td>\n",
       "    </tr>\n",
       "    <tr>\n",
       "      <th>1</th>\n",
       "      <td>TL</td>\n",
       "      <td>39.384</td>\n",
       "      <td>19.875</td>\n",
       "      <td>Passenger</td>\n",
       "      <td>28.4</td>\n",
       "      <td>3.2</td>\n",
       "      <td>225</td>\n",
       "      <td>108.1</td>\n",
       "      <td>70.3</td>\n",
       "      <td>192.9</td>\n",
       "      <td>3.517</td>\n",
       "      <td>17.2</td>\n",
       "      <td>25</td>\n",
       "      <td>6-Mar-15</td>\n",
       "    </tr>\n",
       "    <tr>\n",
       "      <th>2</th>\n",
       "      <td>CL</td>\n",
       "      <td>14.114</td>\n",
       "      <td>18.225</td>\n",
       "      <td>Passenger</td>\n",
       "      <td>.</td>\n",
       "      <td>3.2</td>\n",
       "      <td>225</td>\n",
       "      <td>106.9</td>\n",
       "      <td>70.6</td>\n",
       "      <td>192</td>\n",
       "      <td>3.47</td>\n",
       "      <td>17.2</td>\n",
       "      <td>26</td>\n",
       "      <td>1-Apr-14</td>\n",
       "    </tr>\n",
       "    <tr>\n",
       "      <th>3</th>\n",
       "      <td>RL</td>\n",
       "      <td>8.588</td>\n",
       "      <td>29.725</td>\n",
       "      <td>Passenger</td>\n",
       "      <td>42</td>\n",
       "      <td>3.5</td>\n",
       "      <td>210</td>\n",
       "      <td>114.6</td>\n",
       "      <td>71.4</td>\n",
       "      <td>196.6</td>\n",
       "      <td>3.85</td>\n",
       "      <td>18</td>\n",
       "      <td>22</td>\n",
       "      <td>3-Oct-15</td>\n",
       "    </tr>\n",
       "    <tr>\n",
       "      <th>4</th>\n",
       "      <td>A4</td>\n",
       "      <td>20.397</td>\n",
       "      <td>22.255</td>\n",
       "      <td>Passenger</td>\n",
       "      <td>23.99</td>\n",
       "      <td>1.8</td>\n",
       "      <td>150</td>\n",
       "      <td>102.6</td>\n",
       "      <td>68.2</td>\n",
       "      <td>178</td>\n",
       "      <td>2.998</td>\n",
       "      <td>16.4</td>\n",
       "      <td>27</td>\n",
       "      <td>10-Aug-15</td>\n",
       "    </tr>\n",
       "  </tbody>\n",
       "</table>\n",
       "</div>"
      ],
      "text/plain": [
       "               Model  Sales in thousands 4-year resale value Vehicle type  \\\n",
       "0  Integra                        16.919               16.36    Passenger   \n",
       "1  TL                             39.384              19.875    Passenger   \n",
       "2  CL                             14.114              18.225    Passenger   \n",
       "3  RL                              8.588              29.725    Passenger   \n",
       "4  A4                             20.397              22.255    Passenger   \n",
       "\n",
       "  Price in thousands Engine size Horsepower Wheelbase Width Length  \\\n",
       "0               21.5         1.8        140     101.2  67.3  172.4   \n",
       "1               28.4         3.2        225     108.1  70.3  192.9   \n",
       "2                  .         3.2        225     106.9  70.6    192   \n",
       "3                 42         3.5        210     114.6  71.4  196.6   \n",
       "4              23.99         1.8        150     102.6  68.2    178   \n",
       "\n",
       "  Curb weight Fuel capacity Fuel efficiency Latest Launch  \n",
       "0       2.639          13.2              28      2-Feb-14  \n",
       "1       3.517          17.2              25      6-Mar-15  \n",
       "2        3.47          17.2              26      1-Apr-14  \n",
       "3        3.85            18              22      3-Oct-15  \n",
       "4       2.998          16.4              27     10-Aug-15  "
      ]
     },
     "execution_count": 20,
     "metadata": {},
     "output_type": "execute_result"
    }
   ],
   "source": [
    "# import pandas as pd\n",
    "\n",
    "# Load the dataset\n",
    "df = pd.read_csv(\"Car_sales.csv\")\n",
    "\n",
    "# Identify the column with the most missing values\n",
    "column_to_drop = df.isnull().sum().idxmax()\n",
    "\n",
    "# Drop the column\n",
    "df = df.drop(columns=[column_to_drop])\n",
    "\n",
    "# Display the updated dataframe\n",
    "df.head()\n"
   ]
  },
  {
   "cell_type": "markdown",
   "id": "1bea672a-88ce-429a-b59d-796636eaf98b",
   "metadata": {},
   "source": [
    "# 9. Drop the rows with categorical missing values"
   ]
  },
  {
   "cell_type": "code",
   "execution_count": 26,
   "id": "836c82f0-8619-46ce-a88e-ebd56ce605fc",
   "metadata": {},
   "outputs": [
    {
     "data": {
      "text/html": [
       "<div>\n",
       "<style scoped>\n",
       "    .dataframe tbody tr th:only-of-type {\n",
       "        vertical-align: middle;\n",
       "    }\n",
       "\n",
       "    .dataframe tbody tr th {\n",
       "        vertical-align: top;\n",
       "    }\n",
       "\n",
       "    .dataframe thead th {\n",
       "        text-align: right;\n",
       "    }\n",
       "</style>\n",
       "<table border=\"1\" class=\"dataframe\">\n",
       "  <thead>\n",
       "    <tr style=\"text-align: right;\">\n",
       "      <th></th>\n",
       "      <th>Manufacturer</th>\n",
       "      <th>Model</th>\n",
       "      <th>Sales in thousands</th>\n",
       "      <th>4-year resale value</th>\n",
       "      <th>Vehicle type</th>\n",
       "      <th>Price in thousands</th>\n",
       "      <th>Engine size</th>\n",
       "      <th>Horsepower</th>\n",
       "      <th>Wheelbase</th>\n",
       "      <th>Width</th>\n",
       "      <th>Length</th>\n",
       "      <th>Curb weight</th>\n",
       "      <th>Fuel capacity</th>\n",
       "      <th>Fuel efficiency</th>\n",
       "      <th>Latest Launch</th>\n",
       "    </tr>\n",
       "  </thead>\n",
       "  <tbody>\n",
       "    <tr>\n",
       "      <th>0</th>\n",
       "      <td>Acura</td>\n",
       "      <td>Integra</td>\n",
       "      <td>16.919</td>\n",
       "      <td>16.36</td>\n",
       "      <td>Passenger</td>\n",
       "      <td>21.5</td>\n",
       "      <td>1.8</td>\n",
       "      <td>140</td>\n",
       "      <td>101.2</td>\n",
       "      <td>67.3</td>\n",
       "      <td>172.4</td>\n",
       "      <td>2.639</td>\n",
       "      <td>13.2</td>\n",
       "      <td>28</td>\n",
       "      <td>2-Feb-14</td>\n",
       "    </tr>\n",
       "    <tr>\n",
       "      <th>1</th>\n",
       "      <td>Acura</td>\n",
       "      <td>TL</td>\n",
       "      <td>39.384</td>\n",
       "      <td>19.875</td>\n",
       "      <td>Passenger</td>\n",
       "      <td>28.4</td>\n",
       "      <td>3.2</td>\n",
       "      <td>225</td>\n",
       "      <td>108.1</td>\n",
       "      <td>70.3</td>\n",
       "      <td>192.9</td>\n",
       "      <td>3.517</td>\n",
       "      <td>17.2</td>\n",
       "      <td>25</td>\n",
       "      <td>6-Mar-15</td>\n",
       "    </tr>\n",
       "    <tr>\n",
       "      <th>2</th>\n",
       "      <td>Acura</td>\n",
       "      <td>CL</td>\n",
       "      <td>14.114</td>\n",
       "      <td>18.225</td>\n",
       "      <td>Passenger</td>\n",
       "      <td>.</td>\n",
       "      <td>3.2</td>\n",
       "      <td>225</td>\n",
       "      <td>106.9</td>\n",
       "      <td>70.6</td>\n",
       "      <td>192</td>\n",
       "      <td>3.47</td>\n",
       "      <td>17.2</td>\n",
       "      <td>26</td>\n",
       "      <td>1-Apr-14</td>\n",
       "    </tr>\n",
       "    <tr>\n",
       "      <th>3</th>\n",
       "      <td>Acura</td>\n",
       "      <td>RL</td>\n",
       "      <td>8.588</td>\n",
       "      <td>29.725</td>\n",
       "      <td>Passenger</td>\n",
       "      <td>42</td>\n",
       "      <td>3.5</td>\n",
       "      <td>210</td>\n",
       "      <td>114.6</td>\n",
       "      <td>71.4</td>\n",
       "      <td>196.6</td>\n",
       "      <td>3.85</td>\n",
       "      <td>18</td>\n",
       "      <td>22</td>\n",
       "      <td>3-Oct-15</td>\n",
       "    </tr>\n",
       "    <tr>\n",
       "      <th>4</th>\n",
       "      <td>Audi</td>\n",
       "      <td>A4</td>\n",
       "      <td>20.397</td>\n",
       "      <td>22.255</td>\n",
       "      <td>Passenger</td>\n",
       "      <td>23.99</td>\n",
       "      <td>1.8</td>\n",
       "      <td>150</td>\n",
       "      <td>102.6</td>\n",
       "      <td>68.2</td>\n",
       "      <td>178</td>\n",
       "      <td>2.998</td>\n",
       "      <td>16.4</td>\n",
       "      <td>27</td>\n",
       "      <td>10-Aug-15</td>\n",
       "    </tr>\n",
       "  </tbody>\n",
       "</table>\n",
       "</div>"
      ],
      "text/plain": [
       "    Manufacturer              Model  Sales in thousands 4-year resale value  \\\n",
       "0  Acura          Integra                        16.919               16.36   \n",
       "1  Acura          TL                             39.384              19.875   \n",
       "2  Acura          CL                             14.114              18.225   \n",
       "3  Acura          RL                              8.588              29.725   \n",
       "4  Audi           A4                             20.397              22.255   \n",
       "\n",
       "  Vehicle type Price in thousands Engine size Horsepower Wheelbase Width  \\\n",
       "0    Passenger               21.5         1.8        140     101.2  67.3   \n",
       "1    Passenger               28.4         3.2        225     108.1  70.3   \n",
       "2    Passenger                  .         3.2        225     106.9  70.6   \n",
       "3    Passenger                 42         3.5        210     114.6  71.4   \n",
       "4    Passenger              23.99         1.8        150     102.6  68.2   \n",
       "\n",
       "  Length Curb weight Fuel capacity Fuel efficiency Latest Launch  \n",
       "0  172.4       2.639          13.2              28      2-Feb-14  \n",
       "1  192.9       3.517          17.2              25      6-Mar-15  \n",
       "2    192        3.47          17.2              26      1-Apr-14  \n",
       "3  196.6        3.85            18              22      3-Oct-15  \n",
       "4    178       2.998          16.4              27     10-Aug-15  "
      ]
     },
     "execution_count": 26,
     "metadata": {},
     "output_type": "execute_result"
    }
   ],
   "source": [
    " import pandas as pd\n",
    "\n",
    "# Load the dataset\n",
    "df = pd.read_csv(\"Car_sales.csv\")\n",
    "\n",
    "# Identify categorical columns\n",
    "categorical_columns = df.select_dtypes(include=['object']).columns\n",
    "\n",
    "# Drop rows with missing values in categorical columns\n",
    "df = df.dropna(subset=categorical_columns)\n",
    "\n",
    "# Display the updated dataframe\n",
    "df.head()\n"
   ]
  },
  {
   "cell_type": "markdown",
   "id": "ae800156-fd50-4105-a677-f049cd7749de",
   "metadata": {},
   "source": [
    "# 10. Import the rows with numerical missing values"
   ]
  },
  {
   "cell_type": "code",
   "execution_count": 27,
   "id": "a9e8f679-0c50-4a6c-ab8f-cf004e6f5768",
   "metadata": {},
   "outputs": [
    {
     "data": {
      "text/html": [
       "<div>\n",
       "<style scoped>\n",
       "    .dataframe tbody tr th:only-of-type {\n",
       "        vertical-align: middle;\n",
       "    }\n",
       "\n",
       "    .dataframe tbody tr th {\n",
       "        vertical-align: top;\n",
       "    }\n",
       "\n",
       "    .dataframe thead th {\n",
       "        text-align: right;\n",
       "    }\n",
       "</style>\n",
       "<table border=\"1\" class=\"dataframe\">\n",
       "  <thead>\n",
       "    <tr style=\"text-align: right;\">\n",
       "      <th></th>\n",
       "      <th>Manufacturer</th>\n",
       "      <th>Model</th>\n",
       "      <th>Sales in thousands</th>\n",
       "      <th>4-year resale value</th>\n",
       "      <th>Vehicle type</th>\n",
       "      <th>Price in thousands</th>\n",
       "      <th>Engine size</th>\n",
       "      <th>Horsepower</th>\n",
       "      <th>Wheelbase</th>\n",
       "      <th>Width</th>\n",
       "      <th>Length</th>\n",
       "      <th>Curb weight</th>\n",
       "      <th>Fuel capacity</th>\n",
       "      <th>Fuel efficiency</th>\n",
       "      <th>Latest Launch</th>\n",
       "    </tr>\n",
       "  </thead>\n",
       "  <tbody>\n",
       "  </tbody>\n",
       "</table>\n",
       "</div>"
      ],
      "text/plain": [
       "Empty DataFrame\n",
       "Columns: [Manufacturer, Model, Sales in thousands, 4-year resale value, Vehicle type, Price in thousands, Engine size, Horsepower, Wheelbase, Width, Length, Curb weight, Fuel capacity, Fuel efficiency, Latest Launch]\n",
       "Index: []"
      ]
     },
     "execution_count": 27,
     "metadata": {},
     "output_type": "execute_result"
    }
   ],
   "source": [
    "import pandas as pd\n",
    "\n",
    "# Load the dataset\n",
    "df = pd.read_csv(\"Car_sales.csv\")\n",
    "\n",
    "# Identify numerical columns\n",
    "numerical_columns = df.select_dtypes(include=['number']).columns\n",
    "\n",
    "# Select rows with missing values in numerical columns\n",
    "df_with_missing_numerical = df[df[numerical_columns].isnull().any(axis=1)]\n",
    "\n",
    "# Display the selected rows\n",
    "df_with_missing_numerical\n"
   ]
  },
  {
   "cell_type": "markdown",
   "id": "ef46ef1a-dc4c-44d6-9929-57ef8a345705",
   "metadata": {},
   "source": [
    "# 11. Sort the data w.r.t price_find the details of the most and the least expensive cars"
   ]
  },
  {
   "cell_type": "code",
   "execution_count": 29,
   "id": "c8998c8b-87ca-4fbc-a18b-c51decfeeab8",
   "metadata": {},
   "outputs": [
    {
     "name": "stdout",
     "output_type": "stream",
     "text": [
      "Least Expensive Car Details:\n",
      " Manufacturer               Acura        \n",
      "Model                  CL               \n",
      "Sales in thousands                14.114\n",
      "4-year resale value               18.225\n",
      "Vehicle type                   Passenger\n",
      "Price in thousands                     .\n",
      "Engine size                          3.2\n",
      "Horsepower                           225\n",
      "Wheelbase                          106.9\n",
      "Width                               70.6\n",
      "Length                               192\n",
      "Curb weight                         3.47\n",
      "Fuel capacity                       17.2\n",
      "Fuel efficiency                       26\n",
      "Latest Launch                   1-Apr-14\n",
      "Name: 2, dtype: object\n",
      "\n",
      "Most Expensive Car Details:\n",
      " Manufacturer               Hyundai      \n",
      "Model                  Accent           \n",
      "Sales in thousands                41.184\n",
      "4-year resale value                 5.86\n",
      "Vehicle type                   Passenger\n",
      "Price in thousands                 9.699\n",
      "Engine size                          1.5\n",
      "Horsepower                            92\n",
      "Wheelbase                           96.1\n",
      "Width                               65.7\n",
      "Length                             166.7\n",
      "Curb weight                         2.24\n",
      "Fuel capacity                       11.9\n",
      "Fuel efficiency                       31\n",
      "Latest Launch                   9-Oct-14\n",
      "Name: 62, dtype: object\n"
     ]
    }
   ],
   "source": [
    "import pandas as pd\n",
    "\n",
    "# Load the dataset\n",
    "df = pd.read_csv(\"Car_sales.csv\")\n",
    "\n",
    "# Sort the dataframe by price in ascending order\n",
    "df_sorted = df.sort_values(by=\"Price in thousands\", ascending=True)\n",
    "\n",
    "# Get the least expensive car (first row) and most expensive car (last row)\n",
    "least_expensive_car = df_sorted.iloc[0]\n",
    "most_expensive_car = df_sorted.iloc[-1]\n",
    "\n",
    "# Display results\n",
    "print(\"Least Expensive Car Details:\\n\", least_expensive_car)\n",
    "print(\"\\nMost Expensive Car Details:\\n\", most_expensive_car)\n"
   ]
  },
  {
   "cell_type": "markdown",
   "id": "20fbaf2a-fdce-42f5-90fb-984a858d5c37",
   "metadata": {},
   "source": [
    "# 12. Write a function to find min and max values of any column"
   ]
  },
  {
   "cell_type": "code",
   "execution_count": 31,
   "id": "b280c6ba-420f-4dbb-9208-63db68ff7309",
   "metadata": {},
   "outputs": [
    {
     "name": "stdout",
     "output_type": "stream",
     "text": [
      "Minimum Price in thousands: .\n",
      "Maximum Price in thousands: 9.699\n"
     ]
    }
   ],
   "source": [
    "import pandas as pd\n",
    "\n",
    "# Load the dataset\n",
    "df = pd.read_csv(\"Car_sales.csv\")\n",
    "\n",
    "# Function to find min and max values of a column\n",
    "def find_min_max(df, column_name):\n",
    "    if column_name in df.columns:\n",
    "        min_value = df[column_name].min()\n",
    "        max_value = df[column_name].max()\n",
    "        return min_value, max_value\n",
    "    else:\n",
    "        return f\"Column '{column_name}' not found in the dataset.\"\n",
    "\n",
    "# Example usage\n",
    "column = \"Price in thousands\"  # Replace with any column name\n",
    "min_val, max_val = find_min_max(df, column)\n",
    "\n",
    "print(f\"Minimum {column}: {min_val}\")\n",
    "print(f\"Maximum {column}: {max_val}\")\n"
   ]
  },
  {
   "cell_type": "markdown",
   "id": "17528521-37e7-42fd-96a8-a75b585259cb",
   "metadata": {},
   "source": [
    "# 13. Call the above function to find min max of horse power, length, fuel efficiency"
   ]
  },
  {
   "cell_type": "code",
   "execution_count": 33,
   "id": "1b356cef-8ec6-476d-9838-b98527f7288e",
   "metadata": {},
   "outputs": [
    {
     "name": "stdout",
     "output_type": "stream",
     "text": [
      "Minimum Horsepower: .\n",
      "Maximum Horsepower: 92\n",
      "\n",
      "Minimum Length: .\n",
      "Maximum Length: 224.5\n",
      "\n",
      "Column 'Fuel Efficiency' not found in the dataset.\n",
      "\n"
     ]
    }
   ],
   "source": [
    "#import pandas as pd\n",
    "\n",
    "# Load the dataset\n",
    "df = pd.read_csv(\"Car_sales.csv\")\n",
    "\n",
    "# Function to find min and max values of a column\n",
    "def find_min_max(df, column_name):\n",
    "    if column_name in df.columns:\n",
    "        min_value = df[column_name].min()\n",
    "        max_value = df[column_name].max()\n",
    "        return min_value, max_value\n",
    "    else:\n",
    "        return None, None  # If the column does not exist\n",
    "\n",
    "# Columns to find min and max values for\n",
    "columns_to_check = [\"Horsepower\", \"Length\", \"Fuel Efficiency\"]\n",
    "\n",
    "for col in columns_to_check:\n",
    "    min_val, max_val = find_min_max(df, col)\n",
    "    \n",
    "    if min_val is not None and max_val is not None:\n",
    "        print(f\"Minimum {col}: {min_val}\")\n",
    "        print(f\"Maximum {col}: {max_val}\\n\")\n",
    "    else:\n",
    "        print(f\"Column '{col}' not found in the dataset.\\n\")\n"
   ]
  },
  {
   "cell_type": "markdown",
   "id": "b2b66fec-7581-4d0b-a83e-dccf9220139a",
   "metadata": {},
   "source": [
    "# 14. Plot histogram of continuous numerical variable : price,sales,hoursepower,fuelefficiency"
   ]
  },
  {
   "cell_type": "code",
   "execution_count": 37,
   "id": "4f4e8c98-83b3-43c1-9000-f60e02ac1804",
   "metadata": {},
   "outputs": [
    {
     "data": {
      "image/png": "[encoded data removed]",
      "text/plain": [
       "<Figure size 1200x800 with 4 Axes>"
      ]
     },
     "metadata": {},
     "output_type": "display_data"
    }
   ],
   "source": [
    "import pandas as pd\n",
    "import matplotlib.pyplot as plt\n",
    "\n",
    "# Load the dataset\n",
    "df = pd.read_csv(\"Car_sales.csv\")\n",
    "\n",
    "# Define the columns to plot histograms for\n",
    "numerical_columns = [\"Price in thousands\", \"Sales in thousands\", \"Horsepower\", \"Fuel efficiency\"]  # Update names if needed\n",
    "\n",
    "# Plot histograms\n",
    "plt.figure(figsize=(12, 8))\n",
    "for i, col in enumerate(numerical_columns, 1):\n",
    "    plt.subplot(2, 2, i)  # Create a 2x2 grid of subplots\n",
    "    df[col].dropna().hist(bins=20, edgecolor='black')  # Drop NaN values before plotting\n",
    "    plt.title(f\"Histogram of {col}\")\n",
    "    plt.xlabel(col)\n",
    "    plt.ylabel(\"Frequency\")\n",
    "\n",
    "plt.tight_layout()  # Adjust layout to prevent overlap\n",
    "plt.show()\n"
   ]
  },
  {
   "cell_type": "markdown",
   "id": "db98396d-94ca-45fc-9ef1-aefab67f78bf",
   "metadata": {},
   "source": [
    "# 15. Probability density distribution of continuous numerical variable-length"
   ]
  },
  {
   "cell_type": "code",
   "execution_count": 38,
   "id": "81512810-6ec2-4364-a187-42e1d3d91047",
   "metadata": {},
   "outputs": [
    {
     "name": "stdout",
     "output_type": "stream",
     "text": [
      "   Length   Density\n",
      "0   172.4  0.016206\n",
      "1   192.9  0.027570\n",
      "2   192.0  0.028122\n",
      "3   196.6  0.023728\n",
      "4   178.0  0.023772\n"
     ]
    }
   ],
   "source": [
    "import pandas as pd\n",
    "from scipy.stats import gaussian_kde\n",
    "\n",
    "# Load dataset\n",
    "df = pd.read_csv(\"Car_sales.csv\")\n",
    "\n",
    "# Strip whitespace from column names\n",
    "df.columns = df.columns.str.strip()\n",
    "\n",
    "# Check if \"Length\" column exists\n",
    "if \"Length\" in df.columns:  \n",
    "    df[\"Length\"] = pd.to_numeric(df[\"Length\"], errors=\"coerce\")  # Convert to numeric, coercing errors to NaN\n",
    "    data = df[\"Length\"].dropna()  # Drop NaN values\n",
    "    \n",
    "    if not data.empty:  # Check if there is valid data for KDE\n",
    "        kde = gaussian_kde(data)  # Compute KDE\n",
    "        density_values = kde.evaluate(data)  # Evaluate KDE\n",
    "\n",
    "        result = pd.DataFrame({'Length': data, 'Density': density_values})  # Store results in DataFrame\n",
    "        print(result.head())  # Print first 5 rows\n",
    "    else:\n",
    "        print(\"Error: No valid numerical data in 'Length' column.\")\n",
    "else:\n",
    "    print(\"Error: 'Length' column not found in the dataset.\")\n"
   ]
  },
  {
   "cell_type": "markdown",
   "id": "99d36bfa-a57c-4c1a-bfbd-026694895eb8",
   "metadata": {},
   "source": [
    "# 16. Count by category –group by manufacture"
   ]
  },
  {
   "cell_type": "code",
   "execution_count": 39,
   "id": "bacf91b5-5f99-4fcb-9a16-457ed6ce1bba",
   "metadata": {},
   "outputs": [
    {
     "name": "stdout",
     "output_type": "stream",
     "text": [
      "     Manufacturer  Count\n",
      "0   Acura              4\n",
      "1   Audi               3\n",
      "2   BMW                3\n",
      "3   Buick              4\n",
      "4   Cadillac           5\n",
      "5   Chevrolet          9\n",
      "6   Chrysler           7\n",
      "7   Dodge             11\n",
      "8   Ford              11\n",
      "9   Honda              5\n",
      "10  Hyundai            3\n",
      "11  Infiniti           1\n",
      "12  Jaguar             1\n",
      "13  Jeep               3\n",
      "14  Lexus              6\n",
      "15  Lincoln            3\n",
      "16  Mercedes-Benz      9\n",
      "17  Mercury            6\n",
      "18  Mitsubishi         7\n",
      "19  Nissan             7\n",
      "20  Oldsmobile         6\n",
      "21  Plymouth           4\n",
      "22  Pontiac            6\n",
      "23  Porsche            3\n",
      "24  Saab               2\n",
      "25  Saturn             5\n",
      "26  Subaru             2\n",
      "27  Toyota             9\n",
      "28  Volkswagen         6\n",
      "29  Volvo              6\n"
     ]
    }
   ],
   "source": [
    "manufacturer_counts =df.groupby('Manufacturer').size().reset_index(name='Count')\n",
    "print(manufacturer_counts)"
   ]
  },
  {
   "cell_type": "markdown",
   "id": "3f781c7a-fd37-4792-af4f-ce52256c30cb",
   "metadata": {},
   "source": [
    "# 17. Select all numerical variables"
   ]
  },
  {
   "cell_type": "code",
   "execution_count": 40,
   "id": "1d9cf229-a739-483a-a0fe-412b8c3a61ef",
   "metadata": {},
   "outputs": [
    {
     "data": {
      "text/html": [
       "<div>\n",
       "<style scoped>\n",
       "    .dataframe tbody tr th:only-of-type {\n",
       "        vertical-align: middle;\n",
       "    }\n",
       "\n",
       "    .dataframe tbody tr th {\n",
       "        vertical-align: top;\n",
       "    }\n",
       "\n",
       "    .dataframe thead th {\n",
       "        text-align: right;\n",
       "    }\n",
       "</style>\n",
       "<table border=\"1\" class=\"dataframe\">\n",
       "  <thead>\n",
       "    <tr style=\"text-align: right;\">\n",
       "      <th></th>\n",
       "      <th>Sales in thousands</th>\n",
       "    </tr>\n",
       "  </thead>\n",
       "  <tbody>\n",
       "    <tr>\n",
       "      <th>0</th>\n",
       "      <td>16.919</td>\n",
       "    </tr>\n",
       "    <tr>\n",
       "      <th>1</th>\n",
       "      <td>39.384</td>\n",
       "    </tr>\n",
       "    <tr>\n",
       "      <th>2</th>\n",
       "      <td>14.114</td>\n",
       "    </tr>\n",
       "    <tr>\n",
       "      <th>3</th>\n",
       "      <td>8.588</td>\n",
       "    </tr>\n",
       "    <tr>\n",
       "      <th>4</th>\n",
       "      <td>20.397</td>\n",
       "    </tr>\n",
       "  </tbody>\n",
       "</table>\n",
       "</div>"
      ],
      "text/plain": [
       "   Sales in thousands\n",
       "0              16.919\n",
       "1              39.384\n",
       "2              14.114\n",
       "3               8.588\n",
       "4              20.397"
      ]
     },
     "execution_count": 40,
     "metadata": {},
     "output_type": "execute_result"
    }
   ],
   "source": [
    "import pandas as pd\n",
    "\n",
    "# Load the dataset\n",
    "df = pd.read_csv(\"Car_sales.csv\")\n",
    "\n",
    "# Select only numerical columns\n",
    "numerical_df = df.select_dtypes(include=['number'])\n",
    "\n",
    "# Display the numerical dataframe\n",
    "numerical_df.head()\n"
   ]
  },
  {
   "cell_type": "markdown",
   "id": "685e90f7-33f3-4c11-a3e0-ba8db5253844",
   "metadata": {},
   "source": [
    "# 18. Print correlation coefficient value of price and sales"
   ]
  },
  {
   "cell_type": "code",
   "execution_count": 44,
   "id": "f32f4517-5754-46ca-9d89-2a3f551532d4",
   "metadata": {},
   "outputs": [
    {
     "name": "stdout",
     "output_type": "stream",
     "text": [
      "Correlation coefficient between Price and Sales: -0.3047344541294122\n"
     ]
    }
   ],
   "source": [
    "import pandas as pd\n",
    "\n",
    "# Load the dataset\n",
    "df = pd.read_csv(\"Car_sales.csv\")\n",
    "\n",
    "# Clean the columns to ensure they are numeric (convert any non-numeric values to NaN)\n",
    "df[\"Price in thousands\"] = pd.to_numeric(df[\"Price in thousands\"], errors='coerce')\n",
    "df[\"Sales in thousands\"] = pd.to_numeric(df[\"Sales in thousands\"], errors='coerce')\n",
    "\n",
    "# Calculate the correlation coefficient\n",
    "correlation = df[\"Price in thousands\"].corr(df[\"Sales in thousands\"])\n",
    "\n",
    "# Print the result\n",
    "print(f\"Correlation coefficient between Price and Sales: {correlation}\")\n"
   ]
  },
  {
   "cell_type": "markdown",
   "id": "69f87d56-4fda-4d12-ad43-845985b2ab84",
   "metadata": {},
   "source": [
    "# 19. Plot correlation of price and sales using scatterplot"
   ]
  },
  {
   "cell_type": "code",
   "execution_count": 46,
   "id": "fa923ef0-5454-4c38-a578-7fac3f62c367",
   "metadata": {},
   "outputs": [
    {
     "data": {
      "image/png": "[encoded data removed]",
      "text/plain": [
       "<Figure size 800x500 with 1 Axes>"
      ]
     },
     "metadata": {},
     "output_type": "display_data"
    }
   ],
   "source": [
    "import pandas as pd\n",
    "import matplotlib.pyplot as plt\n",
    "\n",
    "# Load the dataset\n",
    "df = pd.read_csv(\"Car_sales.csv\")\n",
    "\n",
    "# Scatter plot of Price vs. Sales\n",
    "plt.figure(figsize=(8, 5))\n",
    "plt.scatter(df[\"Price in thousands\"], df[\"Sales in thousands\"], alpha=0.5, color=\"blue\", edgecolors=\"black\")\n",
    "plt.title(\"Scatter Plot of Price vs Sales\")\n",
    "plt.xlabel(\"Price\")\n",
    "plt.ylabel(\"Sales\")\n",
    "plt.grid(True)\n",
    "\n",
    "# Show the plot\n",
    "plt.show()\n"
   ]
  },
  {
   "cell_type": "markdown",
   "id": "d05fc322-a179-4b1c-8ac4-2a6b2bbd3883",
   "metadata": {},
   "source": [
    "# 20.Pair plot"
   ]
  },
  {
   "cell_type": "code",
   "execution_count": 49,
   "id": "504be2e6-98e9-4436-bae4-a89fde2d0ce6",
   "metadata": {},
   "outputs": [
    {
     "name": "stderr",
     "output_type": "stream",
     "text": [
      "/home/user/anaconda3/lib/python3.11/site-packages/seaborn/_oldcore.py:1119: FutureWarning: use_inf_as_na option is deprecated and will be removed in a future version. Convert inf values to NaN before operating instead.\n",
      "  with pd.option_context('mode.use_inf_as_na', True):\n"
     ]
    },
    {
     "data": {
      "image/png": "[encoded data removed]",
      "text/plain": [
       "<Figure size 250x250 with 2 Axes>"
      ]
     },
     "metadata": {},
     "output_type": "display_data"
    }
   ],
   "source": [
    "import pandas as pd\n",
    "import seaborn as sns\n",
    "import matplotlib.pyplot as plt\n",
    "\n",
    "# Load the dataset\n",
    "df = pd.read_csv(\"Car_sales.csv\")\n",
    "\n",
    "# Convert infinite values to NaN\n",
    "df.replace([float('inf'), -float('inf')], float('nan'), inplace=True)\n",
    "\n",
    "# Select only numerical columns\n",
    "numerical_df = df.select_dtypes(include=['number'])\n",
    "\n",
    "# Create the pair plot\n",
    "sns.pairplot(numerical_df)\n",
    "\n",
    "# Show the plot\n",
    "plt.show()\n",
    "\n"
   ]
  },
  {
   "cell_type": "markdown",
   "id": "f29065fc-ee89-4bec-b3dd-8c10e157e9a2",
   "metadata": {},
   "source": [
    "# 21. Boxplot of sales of different manufacturer"
   ]
  },
  {
   "cell_type": "code",
   "execution_count": 51,
   "id": "c266cb77-9794-48e2-8a61-d41259a81e15",
   "metadata": {},
   "outputs": [
    {
     "data": {
      "image/png": "[encoded data removed]",
      "text/plain": [
       "<Figure size 1200x600 with 1 Axes>"
      ]
     },
     "metadata": {},
     "output_type": "display_data"
    }
   ],
   "source": [
    "import pandas as pd\n",
    "import seaborn as sns\n",
    "import matplotlib.pyplot as plt\n",
    "\n",
    "# Load the dataset\n",
    "df = pd.read_csv(\"Car_sales.csv\")\n",
    "\n",
    "# Create the boxplot\n",
    "plt.figure(figsize=(12, 6))\n",
    "sns.boxplot(x=\"Manufacturer\", y=\"Sales in thousands\", data=df)\n",
    "\n",
    "# Rotate x-axis labels for better visibility\n",
    "plt.xticks(rotation=45)\n",
    "plt.title(\"Boxplot of Sales by Manufacturer\")\n",
    "plt.xlabel(\"Manufacturer\")\n",
    "plt.ylabel(\"Sales\")\n",
    "\n",
    "# Show the plot\n",
    "plt.show()\n"
   ]
  },
  {
   "cell_type": "markdown",
   "id": "32658257-9dfb-470e-884a-d8ac752f9a22",
   "metadata": {},
   "source": [
    "# 22. Boxplot of other numerical variables w.r.t manufacture"
   ]
  },
  {
   "cell_type": "code",
   "execution_count": 52,
   "id": "2341c195-6c93-40c2-b22a-09086c8d7739",
   "metadata": {},
   "outputs": [
    {
     "data": {
      "image/png": "[encoded data removed]",
      "text/plain": [
       "<Figure size 1500x500 with 1 Axes>"
      ]
     },
     "metadata": {},
     "output_type": "display_data"
    }
   ],
   "source": [
    "import pandas as pd\n",
    "import seaborn as sns\n",
    "import matplotlib.pyplot as plt\n",
    "\n",
    "# Load the dataset\n",
    "df = pd.read_csv(\"Car_sales.csv\")\n",
    "\n",
    "# Select numerical columns (excluding Sales since we already plotted it)\n",
    "numerical_columns = df.select_dtypes(include=['number']).columns\n",
    "\n",
    "# Create boxplots for each numerical variable w.r.t Manufacturer\n",
    "plt.figure(figsize=(15, len(numerical_columns) * 5))\n",
    "for i, col in enumerate(numerical_columns, 1):\n",
    "    plt.subplot(len(numerical_columns), 1, i)\n",
    "    sns.boxplot(x=\"Manufacturer\", y=col, data=df)\n",
    "    plt.xticks(rotation=45)\n",
    "    plt.title(f\"Boxplot of {col} by Manufacturer\")\n",
    "    plt.xlabel(\"Manufacturer\")\n",
    "    plt.ylabel(col)\n",
    "\n",
    "plt.tight_layout()\n",
    "plt.show()\n"
   ]
  },
  {
   "cell_type": "markdown",
   "id": "6816b321-7654-49d1-b528-2d640c472606",
   "metadata": {},
   "source": [
    "# 23. Divide the data into input and output y=sales in thousand, x=all other variables"
   ]
  },
  {
   "cell_type": "code",
   "execution_count": 54,
   "id": "f6b63f44-8989-49b0-b537-7732dc649eac",
   "metadata": {},
   "outputs": [
    {
     "name": "stdout",
     "output_type": "stream",
     "text": [
      "Input Variables (X):\n",
      "    Manufacturer              Model 4-year resale value Vehicle type  \\\n",
      "0  Acura          Integra                         16.36    Passenger   \n",
      "1  Acura          TL                             19.875    Passenger   \n",
      "2  Acura          CL                             18.225    Passenger   \n",
      "3  Acura          RL                             29.725    Passenger   \n",
      "4  Audi           A4                             22.255    Passenger   \n",
      "\n",
      "  Price in thousands Engine size Horsepower Wheelbase Width Length  \\\n",
      "0               21.5         1.8        140     101.2  67.3  172.4   \n",
      "1               28.4         3.2        225     108.1  70.3  192.9   \n",
      "2                  .         3.2        225     106.9  70.6    192   \n",
      "3                 42         3.5        210     114.6  71.4  196.6   \n",
      "4              23.99         1.8        150     102.6  68.2    178   \n",
      "\n",
      "  Curb weight Fuel capacity Fuel efficiency Latest Launch  \n",
      "0       2.639          13.2              28      2-Feb-14  \n",
      "1       3.517          17.2              25      6-Mar-15  \n",
      "2        3.47          17.2              26      1-Apr-14  \n",
      "3        3.85            18              22      3-Oct-15  \n",
      "4       2.998          16.4              27     10-Aug-15  \n",
      "\n",
      "Output Variable (y):\n",
      "0    16.919\n",
      "1    39.384\n",
      "2    14.114\n",
      "3     8.588\n",
      "4    20.397\n",
      "Name: Sales in thousands, dtype: float64\n"
     ]
    }
   ],
   "source": [
    "import pandas as pd\n",
    "\n",
    "# Load the dataset\n",
    "df = pd.read_csv(\"Car_sales.csv\")\n",
    "\n",
    "# Define output variable (y) as Sales\n",
    "y = df[\"Sales in thousands\"]  # Ensure the column name matches your dataset\n",
    "\n",
    "# Define input variables (X) by dropping the Sales column\n",
    "X = df.drop(columns=[\"Sales in thousands\"])\n",
    "\n",
    "# Display the first few rows of X and y\n",
    "print(\"Input Variables (X):\")\n",
    "print(X.head())\n",
    "\n",
    "print(\"\\nOutput Variable (y):\")\n",
    "print(y.head())\n"
   ]
  },
  {
   "cell_type": "markdown",
   "id": "4e76cf4a-e079-4f44-b92c-3d3d083ee7a6",
   "metadata": {},
   "source": [
    "# 24. Encode other categorical variables using label encoder"
   ]
  },
  {
   "cell_type": "code",
   "execution_count": 55,
   "id": "7a09fe63-06d1-443e-9f2a-26e1b9f20866",
   "metadata": {},
   "outputs": [
    {
     "data": {
      "text/html": [
       "<div>\n",
       "<style scoped>\n",
       "    .dataframe tbody tr th:only-of-type {\n",
       "        vertical-align: middle;\n",
       "    }\n",
       "\n",
       "    .dataframe tbody tr th {\n",
       "        vertical-align: top;\n",
       "    }\n",
       "\n",
       "    .dataframe thead th {\n",
       "        text-align: right;\n",
       "    }\n",
       "</style>\n",
       "<table border=\"1\" class=\"dataframe\">\n",
       "  <thead>\n",
       "    <tr style=\"text-align: right;\">\n",
       "      <th></th>\n",
       "      <th>Manufacturer</th>\n",
       "      <th>Model</th>\n",
       "      <th>Sales in thousands</th>\n",
       "      <th>4-year resale value</th>\n",
       "      <th>Vehicle type</th>\n",
       "      <th>Price in thousands</th>\n",
       "      <th>Engine size</th>\n",
       "      <th>Horsepower</th>\n",
       "      <th>Wheelbase</th>\n",
       "      <th>Width</th>\n",
       "      <th>Length</th>\n",
       "      <th>Curb weight</th>\n",
       "      <th>Fuel capacity</th>\n",
       "      <th>Fuel efficiency</th>\n",
       "      <th>Latest Launch</th>\n",
       "    </tr>\n",
       "  </thead>\n",
       "  <tbody>\n",
       "    <tr>\n",
       "      <th>0</th>\n",
       "      <td>0</td>\n",
       "      <td>79</td>\n",
       "      <td>16.919</td>\n",
       "      <td>53</td>\n",
       "      <td>1</td>\n",
       "      <td>59</td>\n",
       "      <td>4</td>\n",
       "      <td>17</td>\n",
       "      <td>5</td>\n",
       "      <td>9</td>\n",
       "      <td>15</td>\n",
       "      <td>18</td>\n",
       "      <td>8</td>\n",
       "      <td>14</td>\n",
       "      <td>42</td>\n",
       "    </tr>\n",
       "    <tr>\n",
       "      <th>1</th>\n",
       "      <td>0</td>\n",
       "      <td>143</td>\n",
       "      <td>39.384</td>\n",
       "      <td>70</td>\n",
       "      <td>1</td>\n",
       "      <td>102</td>\n",
       "      <td>16</td>\n",
       "      <td>50</td>\n",
       "      <td>36</td>\n",
       "      <td>32</td>\n",
       "      <td>83</td>\n",
       "      <td>91</td>\n",
       "      <td>29</td>\n",
       "      <td>11</td>\n",
       "      <td>112</td>\n",
       "    </tr>\n",
       "    <tr>\n",
       "      <th>2</th>\n",
       "      <td>0</td>\n",
       "      <td>25</td>\n",
       "      <td>14.114</td>\n",
       "      <td>63</td>\n",
       "      <td>1</td>\n",
       "      <td>0</td>\n",
       "      <td>16</td>\n",
       "      <td>50</td>\n",
       "      <td>29</td>\n",
       "      <td>35</td>\n",
       "      <td>80</td>\n",
       "      <td>85</td>\n",
       "      <td>29</td>\n",
       "      <td>12</td>\n",
       "      <td>0</td>\n",
       "    </tr>\n",
       "    <tr>\n",
       "      <th>3</th>\n",
       "      <td>0</td>\n",
       "      <td>115</td>\n",
       "      <td>8.588</td>\n",
       "      <td>87</td>\n",
       "      <td>1</td>\n",
       "      <td>130</td>\n",
       "      <td>19</td>\n",
       "      <td>44</td>\n",
       "      <td>56</td>\n",
       "      <td>40</td>\n",
       "      <td>97</td>\n",
       "      <td>113</td>\n",
       "      <td>32</td>\n",
       "      <td>8</td>\n",
       "      <td>94</td>\n",
       "    </tr>\n",
       "    <tr>\n",
       "      <th>4</th>\n",
       "      <td>1</td>\n",
       "      <td>8</td>\n",
       "      <td>20.397</td>\n",
       "      <td>78</td>\n",
       "      <td>1</td>\n",
       "      <td>77</td>\n",
       "      <td>4</td>\n",
       "      <td>22</td>\n",
       "      <td>9</td>\n",
       "      <td>16</td>\n",
       "      <td>34</td>\n",
       "      <td>39</td>\n",
       "      <td>23</td>\n",
       "      <td>13</td>\n",
       "      <td>2</td>\n",
       "    </tr>\n",
       "  </tbody>\n",
       "</table>\n",
       "</div>"
      ],
      "text/plain": [
       "   Manufacturer  Model  Sales in thousands  4-year resale value  Vehicle type  \\\n",
       "0             0     79              16.919                   53             1   \n",
       "1             0    143              39.384                   70             1   \n",
       "2             0     25              14.114                   63             1   \n",
       "3             0    115               8.588                   87             1   \n",
       "4             1      8              20.397                   78             1   \n",
       "\n",
       "   Price in thousands  Engine size  Horsepower  Wheelbase  Width  Length  \\\n",
       "0                  59            4          17          5      9      15   \n",
       "1                 102           16          50         36     32      83   \n",
       "2                   0           16          50         29     35      80   \n",
       "3                 130           19          44         56     40      97   \n",
       "4                  77            4          22          9     16      34   \n",
       "\n",
       "   Curb weight  Fuel capacity  Fuel efficiency  Latest Launch  \n",
       "0           18              8               14             42  \n",
       "1           91             29               11            112  \n",
       "2           85             29               12              0  \n",
       "3          113             32                8             94  \n",
       "4           39             23               13              2  "
      ]
     },
     "execution_count": 55,
     "metadata": {},
     "output_type": "execute_result"
    }
   ],
   "source": [
    "import pandas as pd\n",
    "from sklearn.preprocessing import LabelEncoder\n",
    "\n",
    "# Load the dataset\n",
    "df = pd.read_csv(\"Car_sales.csv\")\n",
    "\n",
    "# Identify categorical columns (excluding the target variable \"Sales\")\n",
    "categorical_columns = df.select_dtypes(include=['object']).columns\n",
    "\n",
    "# Initialize LabelEncoder\n",
    "label_encoders = {}\n",
    "\n",
    "# Encode each categorical column\n",
    "for col in categorical_columns:\n",
    "    le = LabelEncoder()\n",
    "    df[col] = le.fit_transform(df[col])  # Transform categorical values to numbers\n",
    "    label_encoders[col] = le  # Store the encoder for future use\n",
    "\n",
    "# Display the transformed dataset\n",
    "df.head()\n"
   ]
  },
  {
   "cell_type": "markdown",
   "id": "c0cc2a57-d22a-419d-9d66-8b29f5cb630d",
   "metadata": {},
   "source": [
    "# 25. Encode categorical variable vehicle type using one-hot encoder"
   ]
  },
  {
   "cell_type": "code",
   "execution_count": 57,
   "id": "84d0c60e-221c-4a4e-b730-3ca2a7f4dd25",
   "metadata": {},
   "outputs": [
    {
     "data": {
      "text/html": [
       "<div>\n",
       "<style scoped>\n",
       "    .dataframe tbody tr th:only-of-type {\n",
       "        vertical-align: middle;\n",
       "    }\n",
       "\n",
       "    .dataframe tbody tr th {\n",
       "        vertical-align: top;\n",
       "    }\n",
       "\n",
       "    .dataframe thead th {\n",
       "        text-align: right;\n",
       "    }\n",
       "</style>\n",
       "<table border=\"1\" class=\"dataframe\">\n",
       "  <thead>\n",
       "    <tr style=\"text-align: right;\">\n",
       "      <th></th>\n",
       "      <th>Manufacturer</th>\n",
       "      <th>Model</th>\n",
       "      <th>Sales in thousands</th>\n",
       "      <th>4-year resale value</th>\n",
       "      <th>Price in thousands</th>\n",
       "      <th>Engine size</th>\n",
       "      <th>Horsepower</th>\n",
       "      <th>Wheelbase</th>\n",
       "      <th>Width</th>\n",
       "      <th>Length</th>\n",
       "      <th>Curb weight</th>\n",
       "      <th>Fuel capacity</th>\n",
       "      <th>Fuel efficiency</th>\n",
       "      <th>Latest Launch</th>\n",
       "      <th>Vehicle type_Passenger</th>\n",
       "    </tr>\n",
       "  </thead>\n",
       "  <tbody>\n",
       "    <tr>\n",
       "      <th>0</th>\n",
       "      <td>Acura</td>\n",
       "      <td>Integra</td>\n",
       "      <td>16.919</td>\n",
       "      <td>16.36</td>\n",
       "      <td>21.5</td>\n",
       "      <td>1.8</td>\n",
       "      <td>140</td>\n",
       "      <td>101.2</td>\n",
       "      <td>67.3</td>\n",
       "      <td>172.4</td>\n",
       "      <td>2.639</td>\n",
       "      <td>13.2</td>\n",
       "      <td>28</td>\n",
       "      <td>2-Feb-14</td>\n",
       "      <td>True</td>\n",
       "    </tr>\n",
       "    <tr>\n",
       "      <th>1</th>\n",
       "      <td>Acura</td>\n",
       "      <td>TL</td>\n",
       "      <td>39.384</td>\n",
       "      <td>19.875</td>\n",
       "      <td>28.4</td>\n",
       "      <td>3.2</td>\n",
       "      <td>225</td>\n",
       "      <td>108.1</td>\n",
       "      <td>70.3</td>\n",
       "      <td>192.9</td>\n",
       "      <td>3.517</td>\n",
       "      <td>17.2</td>\n",
       "      <td>25</td>\n",
       "      <td>6-Mar-15</td>\n",
       "      <td>True</td>\n",
       "    </tr>\n",
       "    <tr>\n",
       "      <th>2</th>\n",
       "      <td>Acura</td>\n",
       "      <td>CL</td>\n",
       "      <td>14.114</td>\n",
       "      <td>18.225</td>\n",
       "      <td>.</td>\n",
       "      <td>3.2</td>\n",
       "      <td>225</td>\n",
       "      <td>106.9</td>\n",
       "      <td>70.6</td>\n",
       "      <td>192</td>\n",
       "      <td>3.47</td>\n",
       "      <td>17.2</td>\n",
       "      <td>26</td>\n",
       "      <td>1-Apr-14</td>\n",
       "      <td>True</td>\n",
       "    </tr>\n",
       "    <tr>\n",
       "      <th>3</th>\n",
       "      <td>Acura</td>\n",
       "      <td>RL</td>\n",
       "      <td>8.588</td>\n",
       "      <td>29.725</td>\n",
       "      <td>42</td>\n",
       "      <td>3.5</td>\n",
       "      <td>210</td>\n",
       "      <td>114.6</td>\n",
       "      <td>71.4</td>\n",
       "      <td>196.6</td>\n",
       "      <td>3.85</td>\n",
       "      <td>18</td>\n",
       "      <td>22</td>\n",
       "      <td>3-Oct-15</td>\n",
       "      <td>True</td>\n",
       "    </tr>\n",
       "    <tr>\n",
       "      <th>4</th>\n",
       "      <td>Audi</td>\n",
       "      <td>A4</td>\n",
       "      <td>20.397</td>\n",
       "      <td>22.255</td>\n",
       "      <td>23.99</td>\n",
       "      <td>1.8</td>\n",
       "      <td>150</td>\n",
       "      <td>102.6</td>\n",
       "      <td>68.2</td>\n",
       "      <td>178</td>\n",
       "      <td>2.998</td>\n",
       "      <td>16.4</td>\n",
       "      <td>27</td>\n",
       "      <td>10-Aug-15</td>\n",
       "      <td>True</td>\n",
       "    </tr>\n",
       "  </tbody>\n",
       "</table>\n",
       "</div>"
      ],
      "text/plain": [
       "    Manufacturer              Model  Sales in thousands 4-year resale value  \\\n",
       "0  Acura          Integra                        16.919               16.36   \n",
       "1  Acura          TL                             39.384              19.875   \n",
       "2  Acura          CL                             14.114              18.225   \n",
       "3  Acura          RL                              8.588              29.725   \n",
       "4  Audi           A4                             20.397              22.255   \n",
       "\n",
       "  Price in thousands Engine size Horsepower Wheelbase Width Length  \\\n",
       "0               21.5         1.8        140     101.2  67.3  172.4   \n",
       "1               28.4         3.2        225     108.1  70.3  192.9   \n",
       "2                  .         3.2        225     106.9  70.6    192   \n",
       "3                 42         3.5        210     114.6  71.4  196.6   \n",
       "4              23.99         1.8        150     102.6  68.2    178   \n",
       "\n",
       "  Curb weight Fuel capacity Fuel efficiency Latest Launch  \\\n",
       "0       2.639          13.2              28      2-Feb-14   \n",
       "1       3.517          17.2              25      6-Mar-15   \n",
       "2        3.47          17.2              26      1-Apr-14   \n",
       "3        3.85            18              22      3-Oct-15   \n",
       "4       2.998          16.4              27     10-Aug-15   \n",
       "\n",
       "   Vehicle type_Passenger  \n",
       "0                    True  \n",
       "1                    True  \n",
       "2                    True  \n",
       "3                    True  \n",
       "4                    True  "
      ]
     },
     "execution_count": 57,
     "metadata": {},
     "output_type": "execute_result"
    }
   ],
   "source": [
    "import pandas as pd\n",
    "\n",
    "# Load the dataset\n",
    "df = pd.read_csv(\"Car_sales.csv\")\n",
    "\n",
    "# Perform One-Hot Encoding on 'Vehicle Type'\n",
    "df = pd.get_dummies(df, columns=['Vehicle type'], drop_first=True)\n",
    "\n",
    "# Display the transformed dataset\n",
    "df.head()\n"
   ]
  },
  {
   "cell_type": "markdown",
   "id": "4251c58b-1024-41bf-b673-adacac46562b",
   "metadata": {},
   "source": [
    "# 26.Split the data set into train and test set 70% train set 10% test set"
   ]
  },
  {
   "cell_type": "code",
   "execution_count": 60,
   "id": "96bbeafd-afa3-423c-9552-312bed39b33a",
   "metadata": {},
   "outputs": [
    {
     "name": "stdout",
     "output_type": "stream",
     "text": [
      "Train set: (109, 14), (109,)\n",
      "Test set: (16, 14), (16,)\n",
      "Validation set: (32, 14), (32,)\n"
     ]
    }
   ],
   "source": [
    "import pandas as pd\n",
    "from sklearn.model_selection import train_test_split\n",
    "\n",
    "# Load the dataset\n",
    "df = pd.read_csv(\"Car_sales.csv\")\n",
    "\n",
    "# Define input (X) and output (y)\n",
    "X = df.drop(columns=[\"Sales in thousands\"])  # Features (all columns except target)\n",
    "y = df[\"Sales in thousands\"]  # Target variable\n",
    "\n",
    "# Split the dataset: 70% train, 10% test, and remaining 20% for validation\n",
    "X_train, X_temp, y_train, y_temp = train_test_split(X, y, test_size=0.30, random_state=42)\n",
    "\n",
    "# Further split the remaining 30% into test (10%) and validation (20%)\n",
    "X_test, X_val, y_test, y_val = train_test_split(X_temp, y_temp, test_size=2/3, random_state=42)\n",
    "\n",
    "# Display the sizes of each set\n",
    "print(f\"Train set: {X_train.shape}, {y_train.shape}\")\n",
    "print(f\"Test set: {X_test.shape}, {y_test.shape}\")\n",
    "print(f\"Validation set: {X_val.shape}, {y_val.shape}\")\n"
   ]
  },
  {
   "cell_type": "markdown",
   "id": "cfd3798c-2529-4082-98d2-caa54d895bc9",
   "metadata": {},
   "source": [
    "# 27. Apply feature scaling on numerical variables"
   ]
  },
  {
   "cell_type": "code",
   "execution_count": 66,
   "id": "5271108f-7f35-4b0e-857f-d868322153d1",
   "metadata": {},
   "outputs": [
    {
     "ename": "ValueError",
     "evalue": "at least one array or dtype is required",
     "output_type": "error",
     "traceback": [
      "\u001b[0;31m---------------------------------------------------------------------------\u001b[0m",
      "\u001b[0;31mValueError\u001b[0m                                Traceback (most recent call last)",
      "Cell \u001b[0;32mIn[66], line 20\u001b[0m\n\u001b[1;32m     17\u001b[0m scaler \u001b[38;5;241m=\u001b[39m StandardScaler()\n\u001b[1;32m     19\u001b[0m \u001b[38;5;66;03m# Apply feature scaling to numerical variables\u001b[39;00m\n\u001b[0;32m---> 20\u001b[0m df[numerical_columns] \u001b[38;5;241m=\u001b[39m scaler\u001b[38;5;241m.\u001b[39mfit_transform(df[numerical_columns])\n\u001b[1;32m     22\u001b[0m \u001b[38;5;66;03m# Display the transformed dataset\u001b[39;00m\n\u001b[1;32m     23\u001b[0m df\u001b[38;5;241m.\u001b[39mhead()\n",
      "File \u001b[0;32m~/anaconda3/lib/python3.11/site-packages/sklearn/utils/_set_output.py:140\u001b[0m, in \u001b[0;36m_wrap_method_output.<locals>.wrapped\u001b[0;34m(self, X, *args, **kwargs)\u001b[0m\n\u001b[1;32m    138\u001b[0m \u001b[38;5;129m@wraps\u001b[39m(f)\n\u001b[1;32m    139\u001b[0m \u001b[38;5;28;01mdef\u001b[39;00m \u001b[38;5;21mwrapped\u001b[39m(\u001b[38;5;28mself\u001b[39m, X, \u001b[38;5;241m*\u001b[39margs, \u001b[38;5;241m*\u001b[39m\u001b[38;5;241m*\u001b[39mkwargs):\n\u001b[0;32m--> 140\u001b[0m     data_to_wrap \u001b[38;5;241m=\u001b[39m f(\u001b[38;5;28mself\u001b[39m, X, \u001b[38;5;241m*\u001b[39margs, \u001b[38;5;241m*\u001b[39m\u001b[38;5;241m*\u001b[39mkwargs)\n\u001b[1;32m    141\u001b[0m     \u001b[38;5;28;01mif\u001b[39;00m \u001b[38;5;28misinstance\u001b[39m(data_to_wrap, \u001b[38;5;28mtuple\u001b[39m):\n\u001b[1;32m    142\u001b[0m         \u001b[38;5;66;03m# only wrap the first output for cross decomposition\u001b[39;00m\n\u001b[1;32m    143\u001b[0m         \u001b[38;5;28;01mreturn\u001b[39;00m (\n\u001b[1;32m    144\u001b[0m             _wrap_data_with_container(method, data_to_wrap[\u001b[38;5;241m0\u001b[39m], X, \u001b[38;5;28mself\u001b[39m),\n\u001b[1;32m    145\u001b[0m             \u001b[38;5;241m*\u001b[39mdata_to_wrap[\u001b[38;5;241m1\u001b[39m:],\n\u001b[1;32m    146\u001b[0m         )\n",
      "File \u001b[0;32m~/anaconda3/lib/python3.11/site-packages/sklearn/base.py:878\u001b[0m, in \u001b[0;36mTransformerMixin.fit_transform\u001b[0;34m(self, X, y, **fit_params)\u001b[0m\n\u001b[1;32m    874\u001b[0m \u001b[38;5;66;03m# non-optimized default implementation; override when a better\u001b[39;00m\n\u001b[1;32m    875\u001b[0m \u001b[38;5;66;03m# method is possible for a given clustering algorithm\u001b[39;00m\n\u001b[1;32m    876\u001b[0m \u001b[38;5;28;01mif\u001b[39;00m y \u001b[38;5;129;01mis\u001b[39;00m \u001b[38;5;28;01mNone\u001b[39;00m:\n\u001b[1;32m    877\u001b[0m     \u001b[38;5;66;03m# fit method of arity 1 (unsupervised transformation)\u001b[39;00m\n\u001b[0;32m--> 878\u001b[0m     \u001b[38;5;28;01mreturn\u001b[39;00m \u001b[38;5;28mself\u001b[39m\u001b[38;5;241m.\u001b[39mfit(X, \u001b[38;5;241m*\u001b[39m\u001b[38;5;241m*\u001b[39mfit_params)\u001b[38;5;241m.\u001b[39mtransform(X)\n\u001b[1;32m    879\u001b[0m \u001b[38;5;28;01melse\u001b[39;00m:\n\u001b[1;32m    880\u001b[0m     \u001b[38;5;66;03m# fit method of arity 2 (supervised transformation)\u001b[39;00m\n\u001b[1;32m    881\u001b[0m     \u001b[38;5;28;01mreturn\u001b[39;00m \u001b[38;5;28mself\u001b[39m\u001b[38;5;241m.\u001b[39mfit(X, y, \u001b[38;5;241m*\u001b[39m\u001b[38;5;241m*\u001b[39mfit_params)\u001b[38;5;241m.\u001b[39mtransform(X)\n",
      "File \u001b[0;32m~/anaconda3/lib/python3.11/site-packages/sklearn/preprocessing/_data.py:824\u001b[0m, in \u001b[0;36mStandardScaler.fit\u001b[0;34m(self, X, y, sample_weight)\u001b[0m\n\u001b[1;32m    822\u001b[0m \u001b[38;5;66;03m# Reset internal state before fitting\u001b[39;00m\n\u001b[1;32m    823\u001b[0m \u001b[38;5;28mself\u001b[39m\u001b[38;5;241m.\u001b[39m_reset()\n\u001b[0;32m--> 824\u001b[0m \u001b[38;5;28;01mreturn\u001b[39;00m \u001b[38;5;28mself\u001b[39m\u001b[38;5;241m.\u001b[39mpartial_fit(X, y, sample_weight)\n",
      "File \u001b[0;32m~/anaconda3/lib/python3.11/site-packages/sklearn/preprocessing/_data.py:861\u001b[0m, in \u001b[0;36mStandardScaler.partial_fit\u001b[0;34m(self, X, y, sample_weight)\u001b[0m\n\u001b[1;32m    858\u001b[0m \u001b[38;5;28mself\u001b[39m\u001b[38;5;241m.\u001b[39m_validate_params()\n\u001b[1;32m    860\u001b[0m first_call \u001b[38;5;241m=\u001b[39m \u001b[38;5;129;01mnot\u001b[39;00m \u001b[38;5;28mhasattr\u001b[39m(\u001b[38;5;28mself\u001b[39m, \u001b[38;5;124m\"\u001b[39m\u001b[38;5;124mn_samples_seen_\u001b[39m\u001b[38;5;124m\"\u001b[39m)\n\u001b[0;32m--> 861\u001b[0m X \u001b[38;5;241m=\u001b[39m \u001b[38;5;28mself\u001b[39m\u001b[38;5;241m.\u001b[39m_validate_data(\n\u001b[1;32m    862\u001b[0m     X,\n\u001b[1;32m    863\u001b[0m     accept_sparse\u001b[38;5;241m=\u001b[39m(\u001b[38;5;124m\"\u001b[39m\u001b[38;5;124mcsr\u001b[39m\u001b[38;5;124m\"\u001b[39m, \u001b[38;5;124m\"\u001b[39m\u001b[38;5;124mcsc\u001b[39m\u001b[38;5;124m\"\u001b[39m),\n\u001b[1;32m    864\u001b[0m     dtype\u001b[38;5;241m=\u001b[39mFLOAT_DTYPES,\n\u001b[1;32m    865\u001b[0m     force_all_finite\u001b[38;5;241m=\u001b[39m\u001b[38;5;124m\"\u001b[39m\u001b[38;5;124mallow-nan\u001b[39m\u001b[38;5;124m\"\u001b[39m,\n\u001b[1;32m    866\u001b[0m     reset\u001b[38;5;241m=\u001b[39mfirst_call,\n\u001b[1;32m    867\u001b[0m )\n\u001b[1;32m    868\u001b[0m n_features \u001b[38;5;241m=\u001b[39m X\u001b[38;5;241m.\u001b[39mshape[\u001b[38;5;241m1\u001b[39m]\n\u001b[1;32m    870\u001b[0m \u001b[38;5;28;01mif\u001b[39;00m sample_weight \u001b[38;5;129;01mis\u001b[39;00m \u001b[38;5;129;01mnot\u001b[39;00m \u001b[38;5;28;01mNone\u001b[39;00m:\n",
      "File \u001b[0;32m~/anaconda3/lib/python3.11/site-packages/sklearn/base.py:565\u001b[0m, in \u001b[0;36mBaseEstimator._validate_data\u001b[0;34m(self, X, y, reset, validate_separately, **check_params)\u001b[0m\n\u001b[1;32m    563\u001b[0m     \u001b[38;5;28;01mraise\u001b[39;00m \u001b[38;5;167;01mValueError\u001b[39;00m(\u001b[38;5;124m\"\u001b[39m\u001b[38;5;124mValidation should be done on X, y or both.\u001b[39m\u001b[38;5;124m\"\u001b[39m)\n\u001b[1;32m    564\u001b[0m \u001b[38;5;28;01melif\u001b[39;00m \u001b[38;5;129;01mnot\u001b[39;00m no_val_X \u001b[38;5;129;01mand\u001b[39;00m no_val_y:\n\u001b[0;32m--> 565\u001b[0m     X \u001b[38;5;241m=\u001b[39m check_array(X, input_name\u001b[38;5;241m=\u001b[39m\u001b[38;5;124m\"\u001b[39m\u001b[38;5;124mX\u001b[39m\u001b[38;5;124m\"\u001b[39m, \u001b[38;5;241m*\u001b[39m\u001b[38;5;241m*\u001b[39mcheck_params)\n\u001b[1;32m    566\u001b[0m     out \u001b[38;5;241m=\u001b[39m X\n\u001b[1;32m    567\u001b[0m \u001b[38;5;28;01melif\u001b[39;00m no_val_X \u001b[38;5;129;01mand\u001b[39;00m \u001b[38;5;129;01mnot\u001b[39;00m no_val_y:\n",
      "File \u001b[0;32m~/anaconda3/lib/python3.11/site-packages/sklearn/utils/validation.py:778\u001b[0m, in \u001b[0;36mcheck_array\u001b[0;34m(array, accept_sparse, accept_large_sparse, dtype, order, copy, force_all_finite, ensure_2d, allow_nd, ensure_min_samples, ensure_min_features, estimator, input_name)\u001b[0m\n\u001b[1;32m    774\u001b[0m     pandas_requires_conversion \u001b[38;5;241m=\u001b[39m \u001b[38;5;28many\u001b[39m(\n\u001b[1;32m    775\u001b[0m         _pandas_dtype_needs_early_conversion(i) \u001b[38;5;28;01mfor\u001b[39;00m i \u001b[38;5;129;01min\u001b[39;00m dtypes_orig\n\u001b[1;32m    776\u001b[0m     )\n\u001b[1;32m    777\u001b[0m     \u001b[38;5;28;01mif\u001b[39;00m \u001b[38;5;28mall\u001b[39m(\u001b[38;5;28misinstance\u001b[39m(dtype_iter, np\u001b[38;5;241m.\u001b[39mdtype) \u001b[38;5;28;01mfor\u001b[39;00m dtype_iter \u001b[38;5;129;01min\u001b[39;00m dtypes_orig):\n\u001b[0;32m--> 778\u001b[0m         dtype_orig \u001b[38;5;241m=\u001b[39m np\u001b[38;5;241m.\u001b[39mresult_type(\u001b[38;5;241m*\u001b[39mdtypes_orig)\n\u001b[1;32m    780\u001b[0m \u001b[38;5;28;01melif\u001b[39;00m \u001b[38;5;28mhasattr\u001b[39m(array, \u001b[38;5;124m\"\u001b[39m\u001b[38;5;124miloc\u001b[39m\u001b[38;5;124m\"\u001b[39m) \u001b[38;5;129;01mand\u001b[39;00m \u001b[38;5;28mhasattr\u001b[39m(array, \u001b[38;5;124m\"\u001b[39m\u001b[38;5;124mdtype\u001b[39m\u001b[38;5;124m\"\u001b[39m):\n\u001b[1;32m    781\u001b[0m     \u001b[38;5;66;03m# array is a pandas series\u001b[39;00m\n\u001b[1;32m    782\u001b[0m     pandas_requires_conversion \u001b[38;5;241m=\u001b[39m _pandas_dtype_needs_early_conversion(array\u001b[38;5;241m.\u001b[39mdtype)\n",
      "\u001b[0;31mValueError\u001b[0m: at least one array or dtype is required"
     ]
    }
   ],
   "source": [
    "import pandas as pd\n",
    "from sklearn.preprocessing import StandardScaler\n",
    "\n",
    "# Load the dataset\n",
    "df = pd.read_csv(\"Car_sales.csv\")\n",
    "\n",
    "# Select numerical columns (exclude non-numeric ones)\n",
    "numerical_columns = df.select_dtypes(include=['float64', 'int64']).columns\n",
    "\n",
    "# Exclude the target variable \"Sales in thousands\"\n",
    "numerical_columns = numerical_columns.drop(\"Sales in thousands\")\n",
    "\n",
    "# Convert all numerical columns to numeric, coercing errors to NaN\n",
    "df[numerical_columns] = df[numerical_columns].apply(pd.to_numeric, errors='coerce')\n",
    "\n",
    "# Initialize StandardScaler\n",
    "scaler = StandardScaler()\n",
    "\n",
    "# Apply feature scaling to numerical variables\n",
    "df[numerical_columns] = scaler.fit_transform(df[numerical_columns])\n",
    "\n",
    "# Display the transformed dataset\n",
    "df.head()\n",
    "\n"
   ]
  },
  {
   "cell_type": "code",
   "execution_count": 65,
   "id": "d4d136a7-bb28-46f0-907c-3046e419c203",
   "metadata": {},
   "outputs": [],
   "source": [
    "from sklearn.preprocessing import MinMaxScaler\n",
    "scaler = MinMaxScaler()\n"
   ]
  },
  {
   "cell_type": "code",
   "execution_count": null,
   "id": "6c34a187-7a66-4cda-b057-26f6f8eea4dc",
   "metadata": {},
   "outputs": [],
   "source": []
  },
  {
   "cell_type": "code",
   "execution_count": null,
   "id": "ecd94f09-7b9b-4083-87a9-030a3b21b9c9",
   "metadata": {},
   "outputs": [],
   "source": []
  },
  {
   "cell_type": "code",
   "execution_count": null,
   "id": "ce8f918d-651c-4ef2-88ba-16b9269287ac",
   "metadata": {},
   "outputs": [],
   "source": []
  },
  {
   "cell_type": "code",
   "execution_count": null,
   "id": "deeabfd7-4649-4214-9521-139d6af2c69e",
   "metadata": {},
   "outputs": [],
   "source": []
  },
  {
   "cell_type": "code",
   "execution_count": null,
   "id": "1d1a7a9a-df9d-4226-8965-63c57d51a616",
   "metadata": {},
   "outputs": [],
   "source": []
  },
  {
   "cell_type": "code",
   "execution_count": null,
   "id": "10684a66-edd4-47cd-a72e-156c144418e1",
   "metadata": {},
   "outputs": [],
   "source": []
  }
 ],
 "metadata": {
  "kernelspec": {
   "display_name": "Python 3 (ipykernel)",
   "language": "python",
   "name": "python3"
  },
  "language_info": {
   "codemirror_mode": {
    "name": "ipython",
    "version": 3
   },
   "file_extension": ".py",
   "mimetype": "text/x-python",
   "name": "python",
   "nbconvert_exporter": "python",
   "pygments_lexer": "ipython3",
   "version": "3.11.7"
  }
 },
 "nbformat": 4,
 "nbformat_minor": 5
}
